{
 "cells": [
  {
   "cell_type": "code",
   "execution_count": 1,
   "metadata": {},
   "outputs": [],
   "source": [
    "# Dependencies and library\n",
    "import colorsys\n",
    "import copy\n",
    "import numpy as np\n",
    "import re\n",
    "from Bio import SeqIO\n",
    "from io import BytesIO\n",
    "import cairo\n",
    "import math\n",
    "import IPython.display"
   ]
  },
  {
   "cell_type": "code",
   "execution_count": 2,
   "metadata": {},
   "outputs": [],
   "source": [
    "# Original user input\n",
    "start = 4000; stop = 7400"
   ]
  },
  {
   "cell_type": "code",
   "execution_count": null,
   "metadata": {},
   "outputs": [],
   "source": []
  },
  {
   "cell_type": "code",
   "execution_count": 150,
   "metadata": {},
   "outputs": [],
   "source": [
    "cds = []\n",
    "genes = []\n",
    "a = 0\n",
    "f = open(\"gak.gb\", \"r\")\n",
    "for line in f:\n",
    "    if bool(re.search(\"CDS\", line)):\n",
    "        res = [int(i) for i in re.split(\"[^0-9]\", line) if i.isdigit()]\n",
    "        \n",
    "        if \"complement\" in re.split(\"\\s+|\\(\", line):\n",
    "            res[0],res[1] = res[1],res[0]\n",
    "        cds.append(res)\n",
    "    if bool(re.search(\"/gene\", line)):\n",
    "        gen = re.split(\"\\\"\", line)\n",
    "        genes.append(gen[1])\n",
    "f.close()\n",
    "# Removes every even indexed item as every gene has two mentions in my genbank file\n",
    "genes_uniq = genes[::2]\n",
    "\n",
    "# Appending the gene name to each list item with the corresponding coordinates\n",
    "for i in range(len(genes_uniq)):\n",
    "    cds[i].append(genes_uniq[i])"
   ]
  },
  {
   "cell_type": "code",
   "execution_count": 151,
   "metadata": {},
   "outputs": [],
   "source": [
    "# Returns only the genes within the range set by start and stop, user input, returns cds_keep\n",
    "counter = 0\n",
    "vals = []\n",
    "cds_keep = []\n",
    "cds_names = []\n",
    "for i in range(len(cds)):\n",
    "    for j in range(len(cds[i])-1):\n",
    "        if start <= cds[i][j] <= stop:\n",
    "            counter += 1\n",
    "    if counter > 1:\n",
    "        cds_keep.append(cds[i])\n",
    "        cds_names.append(cds[i][-1])\n",
    "    counter = 0"
   ]
  },
  {
   "cell_type": "code",
   "execution_count": 364,
   "metadata": {},
   "outputs": [],
   "source": [
    "# Generates a list of unique colors for each orf to be drawn:\n",
    "numcolors = len(cds_keep)\n",
    "HSV_tuples = [(x*1.0/numcolors, 0.5, 0.5) for x in range(numcolors)]\n",
    "RGB_tuples = map(lambda x: colorsys.hsv_to_rgb(*x), HSV_tuples)\n",
    "colorlist = list(RGB_tuples)"
   ]
  },
  {
   "cell_type": "code",
   "execution_count": 152,
   "metadata": {},
   "outputs": [],
   "source": [
    "# Subtracts the position of the first ORF from all positions to make coordinates relative.\n",
    "cds_test = copy.deepcopy(cds_keep)\n",
    "minval = min(cds_keep[0][0:2])\n",
    "maxval = max(cds_keep[-1][0:2])\n",
    "for n in range(len(cds_keep)):\n",
    "    for m in range(len(cds_keep[n])-1):\n",
    "        cds_test[n][m] = cds_keep[n][m] - minval"
   ]
  },
  {
   "cell_type": "code",
   "execution_count": 295,
   "metadata": {
    "scrolled": true
   },
   "outputs": [],
   "source": [
    "# Draws a forward arrow of *length* and starting x, y. Makes a global variable \"f_endpos\" for the end position of forward arrow.\n",
    "def myarrow(context, x, y, length):\n",
    "    context.move_to(x, y)\n",
    "    \n",
    "    x += 0; y -= 23.8\n",
    "    context.line_to(x, y)\n",
    "    \n",
    "    x += length; y += 0\n",
    "    context.line_to(x, y)\n",
    "    \n",
    "    x += 0; y -= 20\n",
    "    context.line_to(x, y)\n",
    "    \n",
    "    x += 33.8; y += 44.1\n",
    "    context.line_to(x, y)\n",
    "    \n",
    "    global f_endpos\n",
    "    f_endpos = context.get_current_point()\n",
    "    \n",
    "    x -= 33.8; y += 44.1\n",
    "    context.line_to(x, y)\n",
    "    \n",
    "    x += 0; y -= 20\n",
    "    context.line_to(x, y)\n",
    "    \n",
    "    x -= length; y += 0\n",
    "    context.line_to(x, y)\n",
    "    \n",
    "    context.close_path()\n",
    "\n",
    "def myrarrow(rev, x, y, length):\n",
    "    rev.move_to(x, y)\n",
    "    \n",
    "    x += 33.7; y += 44.1\n",
    "    rev.line_to(x, y)\n",
    "    \n",
    "    x += 0; y -= 20\n",
    "    rev.line_to(x, y)\n",
    "    \n",
    "    x += length; y += 0\n",
    "    rev.line_to(x, y)\n",
    "    \n",
    "    x += 0; y -= 23.8\n",
    "    rev.line_to(x, y)\n",
    "    \n",
    "    global f_endpos\n",
    "    f_endpos = rev.get_current_point()\n",
    "    \n",
    "    x += 0; y -= 23.8\n",
    "    rev.line_to(x, y)\n",
    "    \n",
    "    x -= length; y -= 0\n",
    "    rev.line_to(x, y)\n",
    "    \n",
    "    x -= 0; y -= 20\n",
    "    rev.line_to(x, y)\n",
    "    \n",
    "    x += -33.7; y += 43.5\n",
    "    rev.line_to(x, y)\n",
    "\n",
    "    rev.close_path()"
   ]
  },
  {
   "cell_type": "code",
   "execution_count": 204,
   "metadata": {},
   "outputs": [
    {
     "name": "stdout",
     "output_type": "stream",
     "text": [
      "(-13.80859375, 124.13671875)\n"
     ]
    },
    {
     "data": {
      "image/svg+xml": [
       "<svg height=\"200pt\" version=\"1.1\" viewBox=\"0 0 833.9 200\" width=\"833.9pt\" xmlns=\"http://www.w3.org/2000/svg\" xmlns:xlink=\"http://www.w3.org/1999/xlink\">\n",
       "<g id=\"surface351\">\n",
       "<path d=\"M 20 100 L 53.808594 144.136719 L 53.808594 124.136719 L 153.808594 124.136719 L 153.808594 100.335938 L 193.808594 100.335938 C 193.808594 122.425781 175.902344 140.335938 153.808594 140.335938 C 131.71875 140.335938 113.808594 122.425781 113.808594 100.335938 C 113.808594 78.242188 131.71875 60.335938 153.808594 60.335938 C 175.902344 60.335938 193.808594 78.242188 193.808594 100.335938 L 153.808594 76.535156 L 53.808594 76.535156 L 53.808594 56.535156 L 20 100.671875 \" style=\"fill:none;stroke-width:1;stroke-linecap:butt;stroke-linejoin:miter;stroke:rgb(0%,0%,0%);stroke-opacity:1;stroke-miterlimit:10;\"/>\n",
       "</g>\n",
       "</svg>"
      ],
      "text/plain": [
       "<IPython.core.display.SVG object>"
      ]
     },
     "execution_count": 204,
     "metadata": {},
     "output_type": "execute_result"
    }
   ],
   "source": [
    "# Draws a reverse arrow\n",
    "side_a = 80*math.sin(math.radians(25))/math.sin(math.radians(130))\n",
    "angle2 = ((2*side_a)*math.sin(math.radians(130)))/2\n",
    "\n",
    "cwidth = (maxval/10)+100; cheight = 200\n",
    "with cairo.SVGSurface(\"geek101.svg\", cwidth, cheight) as surface:\n",
    "    rev = cairo.Context(surface)\n",
    "    \n",
    "    x = 20; y = 100\n",
    "    rev.move_to(x, y)\n",
    "    \n",
    "    x += angle2; y += 44.13512\n",
    "    rev.line_to(x, y)\n",
    "    \n",
    "    x += 0; y -= 20\n",
    "    rev.line_to(x, y)\n",
    "    \n",
    "    x += 100; y += 0\n",
    "    rev.line_to(x, y)\n",
    "    \n",
    "    x += 0; y -= 23.8\n",
    "    rev.line_to(x, y)\n",
    "    rev.arc(x, y, 40, 0, 2*math.pi)\n",
    "\n",
    "    print(context.get_current_point())\n",
    "    \n",
    "    x += 0; y -= 23.8\n",
    "    rev.line_to(x, y)\n",
    "    \n",
    "    x -= 100; y -= 0\n",
    "    rev.line_to(x, y)\n",
    "    \n",
    "    x -= 0; y -= 20\n",
    "    rev.line_to(x, y)\n",
    "    \n",
    "    x += -angle2; y += 44.13512\n",
    "    rev.line_to(x, y)\n",
    "    \n",
    "    rev.set_line_width(1)\n",
    "    rev.set_source_rgb(0, 0, 0)\n",
    "    rev.stroke()\n",
    "    #rev.close_path()\n",
    "    \n",
    "IPython.display.SVG(\"geek101.svg\")"
   ]
  },
  {
   "cell_type": "code",
   "execution_count": 9,
   "metadata": {},
   "outputs": [
    {
     "data": {
      "image/svg+xml": [
       "<svg height=\"200pt\" version=\"1.1\" viewBox=\"0 0 833.9 200\" width=\"833.9pt\" xmlns=\"http://www.w3.org/2000/svg\" xmlns:xlink=\"http://www.w3.org/1999/xlink\">\n",
       "<defs>\n",
       "<linearGradient gradientUnits=\"userSpaceOnUse\" id=\"linear0\" x1=\"200\" x2=\"200\" y1=\"100\" y2=\"300\">\n",
       "<stop offset=\"0\" style=\"stop-color:rgb(50%,25%,25%);stop-opacity:1;\"/>\n",
       "<stop offset=\"1\" style=\"stop-color:rgb(50%,50%,100%);stop-opacity:1;\"/>\n",
       "</linearGradient>\n",
       "</defs>\n",
       "<g id=\"surface1\">\n",
       "<path d=\"M 0 100 L 3669.5 100 \" style=\"fill:none;stroke-width:2;stroke-linecap:butt;stroke-linejoin:miter;stroke:rgb(0%,0%,0%);stroke-opacity:1;stroke-miterlimit:10;\"/>\n",
       "<path d=\"M 20 100 L 20 76.199219 L 60 76.199219 L 60 56.199219 L 93.800781 100.300781 L 60 144.398438 L 60 124.398438 L 20 124.398438 Z M 20 100 \" style=\"fill-rule:nonzero;fill:url(#linear0);stroke-width:1;stroke-linecap:butt;stroke-linejoin:miter;stroke:rgb(0%,0%,0%);stroke-opacity:1;stroke-miterlimit:10;\"/>\n",
       "</g>\n",
       "</svg>"
      ],
      "text/plain": [
       "<IPython.core.display.SVG object>"
      ]
     },
     "execution_count": 9,
     "metadata": {},
     "output_type": "execute_result"
    }
   ],
   "source": [
    "cwidth = (maxval/10)+100; cheight = 200\n",
    "with cairo.SVGSurface(\"geek95.svg\", cwidth, cheight) as surface: \n",
    "    x = 10; a = 12.5; b = 10; y = (cheight/2)-(a+b); width = 25; height = 45\n",
    "    # ctx = cairo.Context(surface)\n",
    "    ctx2 = cairo.Context(surface)\n",
    "    line = cairo.Context(surface)\n",
    "    line.move_to(0, cheight/2) \n",
    "    line.line_to(maxval/2, cheight/2) \n",
    "    line.stroke()\n",
    "    \n",
    "    pattern = cairo.LinearGradient(200, 100, 200, 300)\n",
    "    pattern.add_color_stop_rgb(0, *list(colorlist[0]))\n",
    "    pattern.add_color_stop_rgb(1, 0.5, 0.5, 1)\n",
    "    ctx2.set_source(pattern)\n",
    "\n",
    "    myarrow(ctx2, 20, 100, 40)\n",
    "    ctx2.fill_preserve()\n",
    "    ctx2.set_line_width(1)\n",
    "    ctx2.set_source_rgb(0, 0, 0)\n",
    "    ctx2.stroke()\n",
    "    \n",
    "IPython.display.SVG(\"geek95.svg\")"
   ]
  },
  {
   "cell_type": "code",
   "execution_count": 52,
   "metadata": {},
   "outputs": [
    {
     "name": "stdout",
     "output_type": "stream",
     "text": [
      "0\n",
      "1\n",
      "2\n"
     ]
    }
   ],
   "source": []
  },
  {
   "cell_type": "code",
   "execution_count": 11,
   "metadata": {
    "scrolled": true
   },
   "outputs": [
    {
     "name": "stdout",
     "output_type": "stream",
     "text": [
      "(20.0, 200.0)\n",
      "(20.0, 176.0)\n",
      "(120.0, 176.0)\n",
      "(120.0, 156.0)\n",
      "(153.80859375, 200.13671875)\n",
      "(120.0, 244.26953125)\n",
      "(120.0, 224.26953125)\n"
     ]
    },
    {
     "data": {
      "image/svg+xml": [
       "<svg height=\"400pt\" version=\"1.1\" viewBox=\"0 0 400 400\" width=\"400pt\" xmlns=\"http://www.w3.org/2000/svg\" xmlns:xlink=\"http://www.w3.org/1999/xlink\">\n",
       "<defs>\n",
       "<g>\n",
       "<symbol id=\"glyph0-0\" overflow=\"visible\">\n",
       "<path d=\"M 3.328125 0 L 3.328125 -15 L 15.328125 -15 L 15.328125 0 Z M 3.703125 -0.375 L 14.953125 -0.375 L 14.953125 -14.625 L 3.703125 -14.625 Z M 3.703125 -0.375 \" style=\"stroke:none;\"/>\n",
       "</symbol>\n",
       "<symbol id=\"glyph0-1\" overflow=\"visible\">\n",
       "<path d=\"M 9.28125 -10.148438 L 12.398438 -10.148438 L 12.023438 -8.859375 L 10.40625 -8.859375 C 10.65625 -8.398438 10.78125 -7.960938 10.78125 -7.546875 C 10.78125 -6.835938 10.585938 -6.179688 10.199219 -5.578125 C 9.8125 -4.976563 9.242188 -4.496094 8.488281 -4.136719 C 7.734375 -3.777344 6.898438 -3.597656 5.976563 -3.597656 C 5.734375 -3.597656 5.464844 -3.613281 5.171875 -3.648438 C 4.878906 -3.683594 4.5625 -3.734375 4.21875 -3.796875 C 3.703125 -3.53125 3.378906 -3.320313 3.246094 -3.164063 C 3.152344 -3.054688 3.105469 -2.941406 3.105469 -2.824219 C 3.105469 -2.683594 3.164063 -2.5625 3.28125 -2.460938 C 3.484375 -2.28125 3.785156 -2.148438 4.183594 -2.0625 C 5.777344 -1.71875 6.828125 -1.441406 7.335938 -1.230469 C 8.03125 -0.941406 8.554688 -0.570313 8.910156 -0.117188 C 9.265625 0.335938 9.445313 0.882813 9.445313 1.523438 C 9.445313 2.5 8.996094 3.351563 8.097656 4.082031 C 7.199219 4.8125 5.808594 5.179688 3.925781 5.179688 C 2.027344 5.179688 0.628906 4.867188 -0.269531 4.242188 C -0.917969 3.789063 -1.242188 3.25 -1.242188 2.625 C -1.242188 2.148438 -1.027344 1.707031 -0.601563 1.300781 C -0.175781 0.894531 0.734375 0.535156 2.132813 0.222656 C 1.65625 -0.0429688 1.335938 -0.285156 1.171875 -0.503906 C 0.945313 -0.800781 0.832031 -1.109375 0.832031 -1.429688 C 0.832031 -1.953125 1.039063 -2.414063 1.457031 -2.8125 C 1.875 -3.210938 2.578125 -3.605469 3.5625 -3.996094 C 2.796875 -4.300781 2.242188 -4.691406 1.902344 -5.171875 C 1.5625 -5.652344 1.394531 -6.214844 1.394531 -6.855469 C 1.394531 -7.535156 1.597656 -8.179688 2.007813 -8.792969 C 2.417969 -9.40625 3.023438 -9.90625 3.824219 -10.289063 C 4.625 -10.671875 5.546875 -10.863281 6.585938 -10.863281 C 7.25 -10.863281 7.839844 -10.789063 8.355469 -10.640625 C 8.621094 -10.5625 8.929688 -10.398438 9.28125 -10.148438 Z M 6.832031 -10.289063 C 6.449219 -10.289063 6.125 -10.164063 5.859375 -9.914063 C 5.4375 -9.53125 5.066406 -8.890625 4.75 -7.992188 C 4.433594 -7.09375 4.277344 -6.242188 4.277344 -5.4375 C 4.277344 -5.054688 4.386719 -4.75 4.609375 -4.527344 C 4.832031 -4.304688 5.109375 -4.195313 5.4375 -4.195313 C 5.757813 -4.195313 6.035156 -4.304688 6.269531 -4.523438 C 6.714844 -4.953125 7.101563 -5.636719 7.429688 -6.578125 C 7.757813 -7.519531 7.921875 -8.375 7.921875 -9.140625 C 7.921875 -9.484375 7.816406 -9.761719 7.605469 -9.972656 C 7.394531 -10.183594 7.136719 -10.289063 6.832031 -10.289063 Z M 2.789063 0.492188 C 2.046875 0.78125 1.539063 1.09375 1.269531 1.429688 C 1 1.765625 0.867188 2.128906 0.867188 2.519531 C 0.867188 3.027344 1.132813 3.484375 1.667969 3.894531 C 2.203125 4.304688 3.058594 4.511719 4.230469 4.511719 C 5.207031 4.511719 5.914063 4.332031 6.351563 3.976563 C 6.789063 3.621094 7.007813 3.207031 7.007813 2.730469 C 7.007813 2.308594 6.804688 1.964844 6.402344 1.699219 C 6 1.433594 5.230469 1.15625 4.089844 0.867188 C 3.558594 0.726563 3.125 0.601563 2.789063 0.492188 Z M 2.789063 0.492188 \" style=\"stroke:none;\"/>\n",
       "</symbol>\n",
       "<symbol id=\"glyph0-2\" overflow=\"visible\">\n",
       "<path d=\"M 11.496094 -10.699219 L 9.222656 -2.90625 L 8.988281 -1.957031 C 8.964844 -1.839844 8.953125 -1.753906 8.953125 -1.699219 C 8.953125 -1.605469 8.984375 -1.523438 9.050781 -1.453125 C 9.117188 -1.382813 9.1875 -1.347656 9.257813 -1.347656 C 9.421875 -1.347656 9.648438 -1.472656 9.9375 -1.722656 C 10.054688 -1.824219 10.335938 -2.183594 10.78125 -2.800781 L 11.191406 -2.589844 C 10.636719 -1.574219 10.042969 -0.832031 9.414063 -0.367188 C 8.785156 0.0976563 8.109375 0.328125 7.382813 0.328125 C 6.9375 0.328125 6.597656 0.214844 6.363281 -0.015625 C 6.128906 -0.246094 6.011719 -0.539063 6.011719 -0.890625 C 6.011719 -1.195313 6.136719 -1.761719 6.386719 -2.589844 L 6.667969 -3.539063 C 5.761719 -1.984375 4.890625 -0.882813 4.054688 -0.234375 C 3.570313 0.140625 3.054688 0.328125 2.507813 0.328125 C 1.789063 0.328125 1.269531 0.0351563 0.949219 -0.554688 C 0.628906 -1.144531 0.46875 -1.8125 0.46875 -2.554688 C 0.46875 -3.65625 0.804688 -4.917969 1.476563 -6.34375 C 2.148438 -7.769531 3.03125 -8.917969 4.125 -9.785156 C 5.023438 -10.503906 5.867188 -10.863281 6.65625 -10.863281 C 7.09375 -10.863281 7.445313 -10.734375 7.710938 -10.480469 C 7.976563 -10.226563 8.171875 -9.765625 8.296875 -9.09375 L 8.71875 -10.535156 Z M 7.746094 -8.472656 C 7.746094 -9.105469 7.648438 -9.5625 7.453125 -9.84375 C 7.3125 -10.039063 7.121094 -10.136719 6.878906 -10.136719 C 6.636719 -10.136719 6.386719 -10.019531 6.128906 -9.785156 C 5.605469 -9.300781 5.039063 -8.316406 4.433594 -6.835938 C 3.828125 -5.355469 3.527344 -4.078125 3.527344 -3 C 3.527344 -2.585938 3.59375 -2.285156 3.730469 -2.101563 C 3.867188 -1.917969 4.019531 -1.828125 4.183594 -1.828125 C 4.535156 -1.828125 4.890625 -2.03125 5.25 -2.4375 C 5.765625 -3.015625 6.230469 -3.722656 6.644531 -4.558594 C 7.378906 -6.027344 7.746094 -7.332031 7.746094 -8.472656 Z M 7.746094 -8.472656 \" style=\"stroke:none;\"/>\n",
       "</symbol>\n",
       "<symbol id=\"glyph0-3\" overflow=\"visible\">\n",
       "<path d=\"M 7.816406 -16.253906 L 4.582031 -5.167969 L 7.265625 -7.652344 L 8.15625 -8.449219 C 8.414063 -8.714844 8.59375 -8.941406 8.695313 -9.128906 C 8.757813 -9.246094 8.789063 -9.355469 8.789063 -9.457031 C 8.789063 -9.621094 8.710938 -9.757813 8.554688 -9.867188 C 8.398438 -9.976563 8.019531 -10.050781 7.417969 -10.089844 L 7.546875 -10.535156 L 12.316406 -10.535156 L 12.199219 -10.089844 C 11.636719 -9.957031 11.179688 -9.804688 10.828125 -9.632813 C 10.554688 -9.5 10.21875 -9.28125 9.820313 -8.976563 C 9.226563 -8.515625 8.800781 -8.160156 8.542969 -7.910156 L 8.027344 -7.429688 L 8.742188 -4.195313 C 9.015625 -2.945313 9.21875 -2.222656 9.351563 -2.027344 C 9.4375 -1.910156 9.539063 -1.851563 9.65625 -1.851563 C 9.929688 -1.851563 10.253906 -2.171875 10.628906 -2.8125 C 10.683594 -2.898438 10.757813 -3.019531 10.851563 -3.175781 L 11.285156 -2.90625 C 10.699219 -1.8125 10.039063 -0.980469 9.304688 -0.410156 C 8.8125 -0.0273438 8.367188 0.164063 7.96875 0.164063 C 7.570313 0.164063 7.238281 0.0234375 6.972656 -0.261719 C 6.707031 -0.546875 6.441406 -1.296875 6.175781 -2.507813 L 5.589844 -5.167969 L 4.300781 -4.019531 L 3.128906 0 L 0.140625 0 L 4.03125 -13.230469 C 4.195313 -13.792969 4.277344 -14.171875 4.277344 -14.367188 C 4.277344 -14.546875 4.238281 -14.691406 4.160156 -14.804688 C 4.082031 -14.917969 3.972656 -15.003906 3.835938 -15.058594 C 3.699219 -15.113281 3.429688 -15.140625 3.023438 -15.140625 L 3.128906 -15.574219 L 7.113281 -16.253906 Z M 7.816406 -16.253906 \" style=\"stroke:none;\"/>\n",
       "</symbol>\n",
       "<symbol id=\"glyph0-4\" overflow=\"visible\">\n",
       "<path d=\"M 9.726563 -5.121094 L 4.804688 -5.121094 L 3.820313 -3.902344 L 2.695313 -2.554688 C 2.476563 -2.265625 2.316406 -2.003906 2.214844 -1.769531 C 2.136719 -1.589844 2.097656 -1.410156 2.097656 -1.230469 C 2.097656 -1.042969 2.195313 -0.867188 2.394531 -0.707031 C 2.59375 -0.546875 2.925781 -0.457031 3.386719 -0.433594 L 3.386719 0 L -1.359375 0 L -1.242188 -0.433594 C -0.820313 -0.503906 -0.445313 -0.652344 -0.117188 -0.878906 C 0.320313 -1.191406 0.949219 -1.835938 1.769531 -2.8125 L 13.03125 -16.253906 L 13.558594 -16.253906 L 13.03125 -3.246094 C 13.007813 -2.566406 12.996094 -2.15625 12.996094 -2.015625 C 12.996094 -1.484375 13.101563 -1.097656 13.316406 -0.855469 C 13.53125 -0.613281 13.890625 -0.472656 14.390625 -0.433594 L 14.273438 0 L 7.394531 0 L 7.523438 -0.433594 C 8.203125 -0.496094 8.59375 -0.550781 8.695313 -0.597656 C 8.914063 -0.707031 9.113281 -0.933594 9.292969 -1.28125 C 9.472656 -1.628906 9.582031 -2.234375 9.621094 -3.09375 Z M 9.726563 -6.082031 L 10.03125 -11.261719 L 5.613281 -6.082031 Z M 9.726563 -6.082031 \" style=\"stroke:none;\"/>\n",
       "</symbol>\n",
       "</g>\n",
       "</defs>\n",
       "<g id=\"surface6\">\n",
       "<path d=\"M 0 200 L 400 200 \" style=\"fill:none;stroke-width:2;stroke-linecap:butt;stroke-linejoin:miter;stroke:rgb(0%,0%,0%);stroke-opacity:1;stroke-miterlimit:10;\"/>\n",
       "<g style=\"fill:rgb(0%,0%,0%);fill-opacity:1;\">\n",
       "  <use x=\"40.148438\" xlink:href=\"#glyph0-1\" y=\"260\"/>\n",
       "  <use x=\"52.148438\" xlink:href=\"#glyph0-2\" y=\"260\"/>\n",
       "  <use x=\"64.148438\" xlink:href=\"#glyph0-3\" y=\"260\"/>\n",
       "  <use x=\"76.148438\" xlink:href=\"#glyph0-4\" y=\"260\"/>\n",
       "</g>\n",
       "<path d=\"M 20 200 L 20 176 L 120 176 L 120 156 L 153.808594 200.136719 L 120 244.269531 L 120 224.269531 L 20 224.269531 Z M 20 200 \" style=\"fill:none;stroke-width:2;stroke-linecap:butt;stroke-linejoin:miter;stroke:rgb(0%,0%,0%);stroke-opacity:1;stroke-miterlimit:10;\"/>\n",
       "</g>\n",
       "</svg>"
      ],
      "text/plain": [
       "<IPython.core.display.SVG object>"
      ]
     },
     "execution_count": 11,
     "metadata": {},
     "output_type": "execute_result"
    }
   ],
   "source": [
    "x = 20; y = 200; length = 100\n",
    "side_a = 80*math.sin(math.radians(25))/math.sin(math.radians(130))\n",
    "angle2 = ((2*side_a)*math.sin(math.radians(130)))/2\n",
    "with cairo.SVGSurface(\"geek95.svg\", 400, 400) as surface: \n",
    "    line = cairo.Context(surface)\n",
    "    line.move_to(0, 200)\n",
    "    line.line_to(400, 200)\n",
    "    line.stroke()\n",
    "    context = cairo.Context(surface)\n",
    "    cr = cairo.Context(surface)\n",
    "    \n",
    "    context.move_to(20, 200)\n",
    "    print(context.get_current_point())\n",
    "    x += 0; y -= 24\n",
    "    context.line_to(x, y)\n",
    "    print(context.get_current_point())\n",
    "    x += length; y += 0\n",
    "    context.line_to(x, y)\n",
    "    print(context.get_current_point())\n",
    "    x += 0; y -= 20\n",
    "    context.line_to(x, y)\n",
    "    print(context.get_current_point())\n",
    "    x += angle2; y += 44.13512\n",
    "    context.line_to(x, y)\n",
    "    print(context.get_current_point())\n",
    "    \n",
    "    x -= angle2; y += 44.13512\n",
    "    context.line_to(x, y)\n",
    "    print(context.get_current_point())\n",
    "    x += 0; y -= 20\n",
    "    context.line_to(x, y)\n",
    "    print(context.get_current_point())\n",
    "    x -= length; y += 0\n",
    "    context.line_to(x, y)\n",
    "    \n",
    "    cr.select_font_face(\"Times New Roman\", cairo.FONT_SLANT_ITALIC, \n",
    "    cairo.FONT_WEIGHT_BOLD)\n",
    "    cr.set_font_size(24)\n",
    "    cr.text_extents(\"ZetCode\")\n",
    "    cr.move_to((f_endpos[1]-20)/2, 260)    \n",
    "    cr.show_text(cds_keep[0][2])\n",
    "    \n",
    "    x -= 0; y += -24\n",
    "    context.line_to(x, y)\n",
    "    context.close_path()\n",
    "    context.stroke()\n",
    "IPython.display.SVG(\"geek95.svg\")"
   ]
  },
  {
   "cell_type": "code",
   "execution_count": 374,
   "metadata": {
    "scrolled": true
   },
   "outputs": [
    {
     "name": "stdout",
     "output_type": "stream",
     "text": [
      "5\n"
     ]
    },
    {
     "data": {
      "image/svg+xml": [
       "<svg height=\"200pt\" version=\"1.1\" viewBox=\"0 0 773.9 200\" width=\"773.9pt\" xmlns=\"http://www.w3.org/2000/svg\" xmlns:xlink=\"http://www.w3.org/1999/xlink\">\n",
       "<defs>\n",
       "<linearGradient gradientUnits=\"userSpaceOnUse\" id=\"linear0\" x1=\"200\" x2=\"200\" y1=\"100\" y2=\"300\">\n",
       "<stop offset=\"0\" style=\"stop-color:rgb(50%,25%,25%);stop-opacity:1;\"/>\n",
       "<stop offset=\"1\" style=\"stop-color:rgb(50%,50%,100%);stop-opacity:1;\"/>\n",
       "</linearGradient>\n",
       "<linearGradient gradientUnits=\"userSpaceOnUse\" id=\"linear1\" x1=\"200\" x2=\"200\" y1=\"100\" y2=\"300\">\n",
       "<stop offset=\"0\" style=\"stop-color:rgb(50%,50%,25%);stop-opacity:1;\"/>\n",
       "<stop offset=\"1\" style=\"stop-color:rgb(50%,50%,100%);stop-opacity:1;\"/>\n",
       "</linearGradient>\n",
       "<linearGradient gradientUnits=\"userSpaceOnUse\" id=\"linear2\" x1=\"200\" x2=\"200\" y1=\"100\" y2=\"300\">\n",
       "<stop offset=\"0\" style=\"stop-color:rgb(25%,50%,25%);stop-opacity:1;\"/>\n",
       "<stop offset=\"1\" style=\"stop-color:rgb(50%,50%,100%);stop-opacity:1;\"/>\n",
       "</linearGradient>\n",
       "<linearGradient gradientUnits=\"userSpaceOnUse\" id=\"linear3\" x1=\"200\" x2=\"200\" y1=\"100\" y2=\"300\">\n",
       "<stop offset=\"0\" style=\"stop-color:rgb(25%,50%,50%);stop-opacity:1;\"/>\n",
       "<stop offset=\"1\" style=\"stop-color:rgb(50%,50%,100%);stop-opacity:1;\"/>\n",
       "</linearGradient>\n",
       "<linearGradient gradientUnits=\"userSpaceOnUse\" id=\"linear4\" x1=\"200\" x2=\"200\" y1=\"100\" y2=\"300\">\n",
       "<stop offset=\"0\" style=\"stop-color:rgb(25%,25%,50%);stop-opacity:1;\"/>\n",
       "<stop offset=\"1\" style=\"stop-color:rgb(50%,50%,100%);stop-opacity:1;\"/>\n",
       "</linearGradient>\n",
       "<linearGradient gradientUnits=\"userSpaceOnUse\" id=\"linear5\" x1=\"200\" x2=\"200\" y1=\"100\" y2=\"300\">\n",
       "<stop offset=\"0\" style=\"stop-color:rgb(50%,25%,50%);stop-opacity:1;\"/>\n",
       "<stop offset=\"1\" style=\"stop-color:rgb(50%,50%,100%);stop-opacity:1;\"/>\n",
       "</linearGradient>\n",
       "</defs>\n",
       "<g id=\"surface666\">\n",
       "<path d=\"M 0 100.300781 L 773.898438 100.300781 \" style=\"fill:none;stroke-width:2;stroke-linecap:butt;stroke-linejoin:miter;stroke:rgb(0%,0%,0%);stroke-opacity:1;stroke-miterlimit:10;\"/>\n",
       "<path d=\"M 20 100 L 20 76.199219 L 30.398438 76.199219 L 30.398438 56.199219 L 64.199219 100.300781 L 30.398438 144.398438 L 30.398438 124.398438 L 20 124.398438 Z M 20 100 \" style=\"fill-rule:nonzero;fill:url(#linear0);stroke-width:1;stroke-linecap:butt;stroke-linejoin:miter;stroke:rgb(0%,0%,0%);stroke-opacity:1;stroke-miterlimit:10;\"/>\n",
       "<path d=\"M 72.898438 100 L 72.898438 76.199219 L 83.300781 76.199219 L 83.300781 56.199219 L 117.097656 100.300781 L 83.300781 144.398438 L 83.300781 124.398438 L 72.898438 124.398438 Z M 72.898438 100 \" style=\"fill-rule:nonzero;fill:url(#linear1);stroke-width:1;stroke-linecap:butt;stroke-linejoin:miter;stroke:rgb(0%,0%,0%);stroke-opacity:1;stroke-miterlimit:10;\"/>\n",
       "<path d=\"M 125.796875 100 L 125.796875 76.199219 L 135.597656 76.199219 L 135.597656 56.199219 L 169.398438 100.300781 L 135.597656 144.398438 L 135.597656 124.398438 L 125.796875 124.398438 Z M 125.796875 100 \" style=\"fill-rule:nonzero;fill:url(#linear2);stroke-width:1;stroke-linecap:butt;stroke-linejoin:miter;stroke:rgb(0%,0%,0%);stroke-opacity:1;stroke-miterlimit:10;\"/>\n",
       "<path d=\"M 191.597656 100 L 225.296875 144.101563 L 225.296875 124.101563 L 270.5 124.101563 L 270.5 76.5 L 225.296875 76.5 L 225.296875 56.5 Z M 191.597656 100 \" style=\"fill-rule:nonzero;fill:url(#linear3);stroke-width:1;stroke-linecap:butt;stroke-linejoin:miter;stroke:rgb(0%,0%,0%);stroke-opacity:1;stroke-miterlimit:10;\"/>\n",
       "<path d=\"M 266.199219 100 L 299.898438 144.101563 L 299.898438 124.101563 L 322.601563 124.101563 L 322.601563 76.5 L 299.898438 76.5 L 299.898438 56.5 Z M 266.199219 100 \" style=\"fill-rule:nonzero;fill:url(#linear4);stroke-width:1;stroke-linecap:butt;stroke-linejoin:miter;stroke:rgb(0%,0%,0%);stroke-opacity:1;stroke-miterlimit:10;\"/>\n",
       "<path d=\"M 330.902344 100 L 330.902344 76.199219 L 504.800781 76.199219 L 504.800781 56.199219 L 538.601563 100.300781 L 504.800781 144.398438 L 504.800781 124.398438 L 330.902344 124.398438 Z M 330.902344 100 \" style=\"fill-rule:nonzero;fill:url(#linear5);stroke-width:1;stroke-linecap:butt;stroke-linejoin:miter;stroke:rgb(0%,0%,0%);stroke-opacity:1;stroke-miterlimit:10;\"/>\n",
       "</g>\n",
       "</svg>"
      ],
      "text/plain": [
       "<IPython.core.display.SVG object>"
      ]
     },
     "execution_count": 374,
     "metadata": {},
     "output_type": "execute_result"
    }
   ],
   "source": [
    "spacing = 0.1\n",
    "cwidth = (maxval*spacing)+40; cheight = 200\n",
    "with cairo.SVGSurface(\"geek100.svg\", cwidth, cheight) as surface:\n",
    "    line = cairo.Context(surface)\n",
    "    line.move_to(0, f_endpos[1]) \n",
    "    line.line_to(cwidth, 100.3) \n",
    "    line.stroke() \n",
    "    surfaces = [cairo.Context(surface) for i in range(len(cds_names))]\n",
    "    x_offset = 20\n",
    "    for i in range(6):\n",
    "        if i == (len(cds_names)-1) and cds_test[i][0] > cds_test[i][1]:\n",
    "            myrarrow(surfaces[i], x_offset, cheight/2, abs((cds_test[i][0]-cds_test[i][1])*0.1))\n",
    "            pattern = cairo.LinearGradient(200, 100, 200, 300)\n",
    "            pattern.add_color_stop_rgb(0, *list(colorlist[i]))\n",
    "            pattern.add_color_stop_rgb(1, 0.5, 0.5, 1)\n",
    "\n",
    "            surfaces[i].set_source(pattern)\n",
    "            surfaces[i].fill_preserve()\n",
    "            surfaces[i].set_line_width(1)\n",
    "            surfaces[i].set_source_rgb(0, 0, 0)\n",
    "            surfaces[i].stroke()\n",
    "            break\n",
    "            \n",
    "        elif i == (len(cds_names)-1) and cds_test[i][0] < cds_test[i][1]:\n",
    "            myarrow(surfaces[i], x_offset, cheight/2, abs((cds_test[i][0]-cds_test[i][1])*0.1))\n",
    "            pattern = cairo.LinearGradient(200, 100, 200, 300)\n",
    "            pattern.add_color_stop_rgb(0, *list(colorlist[i]))\n",
    "            pattern.add_color_stop_rgb(1, 0.5, 0.5, 1)\n",
    "\n",
    "            surfaces[i].set_source(pattern)\n",
    "            surfaces[i].fill_preserve()\n",
    "            surfaces[i].set_line_width(1)\n",
    "            surfaces[i].set_source_rgb(0, 0, 0)\n",
    "            surfaces[i].stroke()\n",
    "            break\n",
    "            \n",
    "        if cds_test[i][0] > cds_test[i][1]:\n",
    "            myrarrow(surfaces[i], x_offset, cheight/2, abs((cds_test[i][0]-cds_test[i][1])*0.1))\n",
    "            pattern = cairo.LinearGradient(200, 100, 200, 300)\n",
    "            pattern.add_color_stop_rgb(0, *list(colorlist[i]))\n",
    "            pattern.add_color_stop_rgb(1, 0.5, 0.5, 1)\n",
    "\n",
    "            surfaces[i].set_source(pattern)\n",
    "            surfaces[i].fill_preserve()\n",
    "            surfaces[i].set_line_width(1)\n",
    "            surfaces[i].set_source_rgb(0, 0, 0)\n",
    "            surfaces[i].stroke()\n",
    "            if cds_test[i+1][0] > cds_test[i+1][1]:\n",
    "                min(cds_test[1][0:2]) - max(cds_test[0][0:2])\n",
    "                x_offset = f_endpos[0] + (cds_test[i+1][1] - cds_test[i][0])*spacing\n",
    "            else:\n",
    "                x_offset = f_endpos[0] + (cds_test[i+1][0] - cds_test[i][0])*spacing\n",
    "        else:\n",
    "            myarrow(surfaces[i], x_offset, cheight/2, (cds_test[i][1]-cds_test[i][0])*0.1)\n",
    "            pattern = cairo.LinearGradient(200, 100, 200, 300)\n",
    "            pattern.add_color_stop_rgb(0, *list(colorlist[i]))\n",
    "            pattern.add_color_stop_rgb(1, 0.5, 0.5, 1)\n",
    "\n",
    "            surfaces[i].set_source(pattern)\n",
    "            surfaces[i].fill_preserve()\n",
    "            surfaces[i].set_line_width(1)\n",
    "            surfaces[i].set_source_rgb(0, 0, 0)\n",
    "            surfaces[i].stroke()\n",
    "            if cds_test[i+1][0] > cds_test[i+1][1]:\n",
    "                x_offset = f_endpos[0] + (cds_test[i+1][1] - cds_test[i][1])*spacing\n",
    "            else:\n",
    "                x_offset = f_endpos[0] + (cds_test[1][0] - cds_test[0][1])*spacing\n",
    "    print(i)\n",
    "  \n",
    "        \n",
    "    \n",
    "IPython.display.SVG(\"geek100.svg\")"
   ]
  },
  {
   "cell_type": "code",
   "execution_count": 216,
   "metadata": {},
   "outputs": [
    {
     "data": {
      "text/plain": [
       "[[0, 104, 'gakA'],\n",
       " [191, 295, 'gakB'],\n",
       " [330, 428, 'gakC'],\n",
       " [1102, 650, 'gakI'],\n",
       " [1286, 1059, 'cro'],\n",
       " [1369, 3108, 'gakT']]"
      ]
     },
     "execution_count": 216,
     "metadata": {},
     "output_type": "execute_result"
    }
   ],
   "source": [
    "cds_test"
   ]
  },
  {
   "cell_type": "code",
   "execution_count": 357,
   "metadata": {},
   "outputs": [
    {
     "name": "stdout",
     "output_type": "stream",
     "text": [
      "(538.6015625, 100.30078125)\n"
     ]
    }
   ],
   "source": [
    "    line = cairo.Context(surface)\n",
    "    line.move_to(0, f_endpos[1]) \n",
    "    line.line_to(f_endpos[0]+20, f_endpos[1]) \n",
    "    line.stroke() "
   ]
  }
 ],
 "metadata": {
  "kernelspec": {
   "display_name": "Python 3",
   "language": "python",
   "name": "python3"
  },
  "language_info": {
   "codemirror_mode": {
    "name": "ipython",
    "version": 3
   },
   "file_extension": ".py",
   "mimetype": "text/x-python",
   "name": "python",
   "nbconvert_exporter": "python",
   "pygments_lexer": "ipython3",
   "version": "3.7.3"
  }
 },
 "nbformat": 4,
 "nbformat_minor": 2
}
